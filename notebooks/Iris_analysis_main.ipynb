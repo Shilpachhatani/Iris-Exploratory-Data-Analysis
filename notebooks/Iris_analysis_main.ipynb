{
 "cells": [
  {
   "cell_type": "markdown",
   "id": "629717b2-f337-4eee-83e8-c4a4d6a7b843",
   "metadata": {},
   "source": [
    "### Import Libraries ###"
   ]
  },
  {
   "cell_type": "code",
   "execution_count": null,
   "id": "21378aff-6627-4764-ae9c-a047358e7141",
   "metadata": {
    "scrolled": true
   },
   "outputs": [],
   "source": [
    "!pip install pandas numpy scikit-learn seaborn matplotlib\n"
   ]
  },
  {
   "cell_type": "code",
   "execution_count": null,
   "id": "dbe61876-a8be-4399-acfc-d2921ebf2ae0",
   "metadata": {},
   "outputs": [],
   "source": [
    "import pandas as pd        \n",
    "import numpy as np         \n",
    "import sklearn             \n",
    "import seaborn as sns      \n",
    "import matplotlib.pyplot as plt  \n"
   ]
  },
  {
   "cell_type": "markdown",
   "id": "7be16159-f6ff-4e69-8ff8-ed927fbbe699",
   "metadata": {},
   "source": [
    "### Load Iris Dataset Using Seaborn ###"
   ]
  },
  {
   "cell_type": "code",
   "execution_count": null,
   "id": "70ba8453-4dae-4bc6-8c9c-5bb70546aa46",
   "metadata": {},
   "outputs": [],
   "source": [
    "iris_dataset=sns.load_dataset('iris')"
   ]
  },
  {
   "cell_type": "markdown",
   "id": "da12a499-cc41-4ec3-b24d-f76d0a129c50",
   "metadata": {},
   "source": [
    "### Structure of Iris Dataset ###"
   ]
  },
  {
   "cell_type": "code",
   "execution_count": null,
   "id": "43465771-e7b7-4034-bfa6-13784a88bf23",
   "metadata": {},
   "outputs": [],
   "source": [
    "print(\"Shape of Iris Dataset: \",iris_dataset.shape)"
   ]
  },
  {
   "cell_type": "code",
   "execution_count": null,
   "id": "e2819836-dfc8-496a-b686-82cf9ec6987a",
   "metadata": {},
   "outputs": [],
   "source": [
    "print(\"Columns in Iris Dataset: \",iris_dataset.columns.tolist)"
   ]
  },
  {
   "cell_type": "code",
   "execution_count": null,
   "id": "5fe3d551-91b9-43e1-b9c8-ca957cac94ae",
   "metadata": {},
   "outputs": [],
   "source": [
    "print(\"First Five Elements in Iris Dataset: \", iris_dataset.head())"
   ]
  },
  {
   "cell_type": "markdown",
   "id": "596571f8-4c8d-4f23-828e-be6f41b16864",
   "metadata": {},
   "source": [
    "### Dataset Description\n",
    "- The Iris dataset has 150 samples from 3 species of Iris flowers.\n",
    "- Features include sepal and petal dimensions.\n",
    "- Target: `species` (setosa, versicolor, virginica)"
   ]
  },
  {
   "cell_type": "code",
   "execution_count": null,
   "id": "e90a81d6-e801-48df-9f01-f5a81ed7f7c9",
   "metadata": {},
   "outputs": [],
   "source": [
    "# Dataset summary\n",
    "iris_dataset.info()\n",
    "# Check basic stats\n",
    "iris_dataset.describe()"
   ]
  },
  {
   "cell_type": "markdown",
   "id": "255548d1-ef09-4f85-872c-e8575fc11d5a",
   "metadata": {},
   "source": [
    "### Visualization of Relationships between different Variables ###"
   ]
  },
  {
   "cell_type": "markdown",
   "id": "a3dc90dc-c2d5-4b5c-8093-1ffca5c89475",
   "metadata": {},
   "source": [
    "### Scatter Plot To Show Relationships between different Variables ###"
   ]
  },
  {
   "cell_type": "code",
   "execution_count": null,
   "id": "f2d140c5-a5dc-4f33-8f85-44eecabe2c5f",
   "metadata": {},
   "outputs": [],
   "source": [
    "sns.scatterplot(data=iris_dataset,x='sepal_length',y='sepal_width', hue='species')\n",
    "plt.title(\"Sepal Length VS Sepal Width\")\n",
    "plt.show()"
   ]
  },
  {
   "cell_type": "code",
   "execution_count": null,
   "id": "bab17459-8a7b-4e2a-94e6-2f9f60870b19",
   "metadata": {},
   "outputs": [],
   "source": [
    "sns.scatterplot(data=iris_dataset,x='sepal_length',y='petal_length',hue='species')\n",
    "plt.title('Sepal Length VS Petal Length')\n",
    "plt.show()"
   ]
  },
  {
   "cell_type": "code",
   "execution_count": null,
   "id": "5763172f-28fd-44e1-9d9c-8c993e10c4fd",
   "metadata": {},
   "outputs": [],
   "source": [
    "sns.scatterplot(data=iris_dataset,x='sepal_length',y='petal_width',hue='species')\n",
    "plt.title(\"Sepal Length VS Petal Width\")\n",
    "plt.show()"
   ]
  },
  {
   "cell_type": "markdown",
   "id": "35be1a76-745e-4b8f-a56a-3b9e06793a60",
   "metadata": {},
   "source": [
    "### Histogram For Data Distribution ###"
   ]
  },
  {
   "cell_type": "code",
   "execution_count": null,
   "id": "dddc8632-5f45-44c3-b596-cc4de654a42b",
   "metadata": {},
   "outputs": [],
   "source": [
    "sns.histplot(data=iris_dataset,x='sepal_length',kde=True,bins=20)\n",
    "plt.title(\"Sepal Length Distribution\")\n",
    "plt.show()"
   ]
  },
  {
   "cell_type": "code",
   "execution_count": null,
   "id": "94887820-0edf-42d2-909f-22f0c199943c",
   "metadata": {},
   "outputs": [],
   "source": [
    "sns.histplot(data=iris_dataset,x='petal_length',kde=True,bins=20)\n",
    "plt.title(\"Petal Length Distribution\")\n",
    "plt.show()"
   ]
  },
  {
   "cell_type": "code",
   "execution_count": null,
   "id": "b8e11eca-3fe5-42fc-8766-e9ba2f8519da",
   "metadata": {},
   "outputs": [],
   "source": [
    "sns.histplot(data=iris_dataset,x='sepal_width',kde=True,bins=20)\n",
    "plt.title(\"Sepal Width Distribution\")\n",
    "plt.show()"
   ]
  },
  {
   "cell_type": "code",
   "execution_count": null,
   "id": "024aacb7-4c3c-47fe-bc8e-20df41b186de",
   "metadata": {},
   "outputs": [],
   "source": [
    "sns.histplot(data=iris_dataset,x='petal_width',kde=True,bins=20)\n",
    "plt.title(\"Petal Width Distribution\")\n",
    "plt.show()"
   ]
  },
  {
   "cell_type": "markdown",
   "id": "f0757383-5479-4933-86af-63a0a93ea55b",
   "metadata": {},
   "source": [
    "### Box plot to detect outliers and spread of values ###"
   ]
  },
  {
   "cell_type": "code",
   "execution_count": null,
   "id": "9f7fe149-2fd5-4459-987b-9fa66030ecfb",
   "metadata": {},
   "outputs": [],
   "source": [
    "sns.boxplot(data=iris_dataset,x='species',y='sepal_length')\n",
    "plt.title('Box Plot of Sepal Length by Specie')\n",
    "plt.show()"
   ]
  },
  {
   "cell_type": "code",
   "execution_count": null,
   "id": "bd919b5d-6675-4f42-8889-f0937838a199",
   "metadata": {},
   "outputs": [],
   "source": [
    "sns.boxplot(data=iris_dataset,x='species',y='petal_length')\n",
    "plt.title('Box Plot of Petal Length by Specie')\n",
    "plt.show()"
   ]
  },
  {
   "cell_type": "code",
   "execution_count": null,
   "id": "ac8b6f87-13da-4ddb-9405-51d66e985655",
   "metadata": {},
   "outputs": [],
   "source": [
    "sns.boxplot(data=iris_dataset,x='species',y='petal_width')\n",
    "plt.title('Box Plot of Petal width by Specie')\n",
    "plt.show()"
   ]
  },
  {
   "cell_type": "code",
   "execution_count": null,
   "id": "8768f3b1-4b03-4c27-9862-6b2aa538ae93",
   "metadata": {},
   "outputs": [],
   "source": [
    "sns.boxplot(data=iris_dataset,x='species',y='sepal_width')\n",
    "plt.title('Box Plot of Sepal Width by Specie')\n",
    "plt.show()"
   ]
  },
  {
   "cell_type": "markdown",
   "id": "104f2a3b-06c1-4b4f-8a37-9dfa947d7142",
   "metadata": {},
   "source": [
    "###  Scatter Plot Matrix (Pairplot)"
   ]
  },
  {
   "cell_type": "code",
   "execution_count": null,
   "id": "881a6d54-6165-4828-a8c1-fb61ec193e3c",
   "metadata": {},
   "outputs": [],
   "source": [
    "#  Analyze feature relationships using pairplot\n",
    "sns.pairplot(iris_dataset, hue='species')\n",
    "plt.suptitle('Iris Feature Relationships', y=1.02)\n",
    "plt.show()"
   ]
  },
  {
   "cell_type": "markdown",
   "id": "b68b4dc5-1905-4371-b796-75c441163bd2",
   "metadata": {},
   "source": [
    "### Conclusion\n",
    "- Petal length and width strongly distinguish the species.\n",
    "- Setosa is linearly separable from the other species based on petal features.\n",
    "- This dataset is ideal for classification models due to its clear feature-target relationship."
   ]
  },
  {
   "cell_type": "code",
   "execution_count": null,
   "id": "46b1b19e-2135-472e-8111-e36495a71916",
   "metadata": {},
   "outputs": [],
   "source": []
  }
 ],
 "metadata": {
  "kernelspec": {
   "display_name": "Python 3 (ipykernel)",
   "language": "python",
   "name": "python3"
  },
  "language_info": {
   "codemirror_mode": {
    "name": "ipython",
    "version": 3
   },
   "file_extension": ".py",
   "mimetype": "text/x-python",
   "name": "python",
   "nbconvert_exporter": "python",
   "pygments_lexer": "ipython3",
   "version": "3.8.10"
  }
 },
 "nbformat": 4,
 "nbformat_minor": 5
}
